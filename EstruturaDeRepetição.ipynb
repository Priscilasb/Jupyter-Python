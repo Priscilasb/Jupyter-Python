{
  "nbformat": 4,
  "nbformat_minor": 0,
  "metadata": {
    "colab": {
      "provenance": []
    },
    "kernelspec": {
      "name": "python3",
      "display_name": "Python 3"
    },
    "language_info": {
      "name": "python"
    }
  },
  "cells": [
    {
      "cell_type": "markdown",
      "source": [
        "**ESTRUTUA DE REPETIÇÃO**"
      ],
      "metadata": {
        "id": "qhevNQ7Ct7sD"
      }
    },
    {
      "cell_type": "markdown",
      "source": [
        "LINK: https://wiki.python.org.br/EstruturaDeRepeticao"
      ],
      "metadata": {
        "id": "Yyxbx5AQuDQp"
      }
    },
    {
      "cell_type": "markdown",
      "source": [
        "exe 01 - Faça um programa que peça uma nota, entre zero e dez. Mostre uma mensagem caso o valor seja inválido e continue pedindo até que o usuário informe um valor válido."
      ],
      "metadata": {
        "id": "K93XseVjnZ8s"
      }
    },
    {
      "cell_type": "code",
      "source": [
        "nota=float(input(\"informe um numero de 0 a 10: \"))\n",
        "while (nota>10) or (nota<0):\n",
        "\tnota=float(input(\"informe um numero de 0 a 10: \"))\n",
        "print('Valor válido')"
      ],
      "metadata": {
        "id": "iYIQg07engiO"
      },
      "execution_count": null,
      "outputs": []
    },
    {
      "cell_type": "markdown",
      "source": [
        "exe 02 - Faça um programa que leia um nome de usuário e a sua senha e não aceite a senha igual ao nome do usuário, mostrando uma mensagem de erro e voltando a pedir as informações."
      ],
      "metadata": {
        "id": "-hH6kd3vodHS"
      }
    },
    {
      "cell_type": "code",
      "source": [
        "user = input('Informe o usuário: ')\n",
        "pas = input('Informe a senha: ')\n",
        "\n",
        "while (pas == user):\n",
        "  print('Senha não pode ser igual ao usuário')\n",
        "  pas = input('Informe a senha: ')\n",
        "else:\n",
        "  print('Conectado')"
      ],
      "metadata": {
        "id": "MV4n47kHogBH"
      },
      "execution_count": null,
      "outputs": []
    },
    {
      "cell_type": "markdown",
      "source": [
        "exe 03 - Faça um programa que leia e valide as seguintes informações:"
      ],
      "metadata": {
        "id": "Gk0TICQxpn8u"
      }
    },
    {
      "cell_type": "markdown",
      "source": [
        "a - Nome: maior que 3 caracteres;"
      ],
      "metadata": {
        "id": "84AzBaGlps-N"
      }
    },
    {
      "cell_type": "markdown",
      "source": [
        "b - Idade: entre 0 e 150;"
      ],
      "metadata": {
        "id": "3LCc8xnKpvzS"
      }
    },
    {
      "cell_type": "markdown",
      "source": [
        "c - Salário: maior que zero;"
      ],
      "metadata": {
        "id": "0rCgCAnwpyw9"
      }
    },
    {
      "cell_type": "markdown",
      "source": [
        "d - Sexo: 'f' ou 'm';"
      ],
      "metadata": {
        "id": "pjooaWKop1BZ"
      }
    },
    {
      "cell_type": "markdown",
      "source": [
        "e - Estado Civil: 's', 'c', 'v', 'd';"
      ],
      "metadata": {
        "id": "e5I4HrM-p3UX"
      }
    },
    {
      "cell_type": "code",
      "source": [
        "nome = input(\"Qual seu nome [minimo 4 caracteres]: \")\n",
        "idade = int(input(\"Sua idade: \"))\n",
        "salario = float(input(\"Salário: \"))\n",
        "sexo = input(\"Sexo ('f' para feminino ou 'm' para masculino): \")\n",
        "civil = input(\"Estado civil (s, c, v ou d): \")\n",
        "\n",
        "while len(nome) <= 3:\n",
        "    nome = input(\"Seu nome deve ter mais que 3 caracteres: \")\n",
        "\n",
        "while (idade < 0) or (idade > 150):\n",
        "    idade = int(input(\"Voce deve ter entre 0 e 150 anos: \"))\n",
        "\n",
        "while (salario<0):\n",
        "    salario = float(input(\"A coisa ta difícil, mas não tem salário negativo: \"))\n",
        "\n",
        "while (sexo!= 'f') and (sexo!='m'):\n",
        "    sexo = input(\"Biologicamente, você deve ser 'f' ou 'm': \")\n",
        "\n",
        "while (civil!='s')and(civil!='c')and(civil!='v')and(civil!='d'):\n",
        "    print(\"Nao tem estado civil 'confuso'\")\n",
        "    civil = input(\"Deve ser s, c, v ou d: \")"
      ],
      "metadata": {
        "id": "YY2oR2Wyp5sg"
      },
      "execution_count": null,
      "outputs": []
    },
    {
      "cell_type": "markdown",
      "source": [
        "exe 04 - Supondo que a população de um país A seja da ordem de 80000 habitantes com uma taxa anual de crescimento de 3% e que a população de B seja 200000 habitantes com uma taxa de crescimento de 1.5%. Faça um programa que calcule e escreva o número de anos necessários para que a população do país A ultrapasse ou iguale a população do país B, mantidas as taxas de crescimento."
      ],
      "metadata": {
        "id": "oYfrJjkhtfOf"
      }
    },
    {
      "cell_type": "code",
      "source": [
        "popA=int(input(\"População do país A: \"))\n",
        "while popA<0:\n",
        "    popA=int(input(\"População do país deve ser maior que 0: \"))\n",
        "taxaA=float(input(\"Taxa de crescimento da cidade A: \"))\n",
        "\n",
        "popB=int(input(\"População do país B: \"))\n",
        "while popB<0:\n",
        "    popB=int(input(\"População do país deve ser maior que 0: \"))\n",
        "taxaB=float(input(\"Taxa de crescimento da cidade B: \"))\n",
        "\n",
        "ano=0\n",
        "while popA < popB:\n",
        "    ano += 1\n",
        "    popA = int((1 + (taxaA/100) )* popA)\n",
        "    popB = int((1 + (taxaB/100) )* popB)\n",
        "    print(\"Ano %d:\" % ano)\n",
        "    print(\"Populaçao A: %d\" % popA)\n",
        "    print(\"População B: %d\\n\\n\" % popB)\n",
        "\n",
        "print(\"Ultrapassa no ano:\",ano)"
      ],
      "metadata": {
        "id": "DTzgLY49tjmc"
      },
      "execution_count": null,
      "outputs": []
    }
  ]
}