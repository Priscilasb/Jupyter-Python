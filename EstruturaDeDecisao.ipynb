{
  "nbformat": 4,
  "nbformat_minor": 0,
  "metadata": {
    "colab": {
      "provenance": []
    },
    "kernelspec": {
      "name": "python3",
      "display_name": "Python 3"
    },
    "language_info": {
      "name": "python"
    }
  },
  "cells": [
    {
      "cell_type": "markdown",
      "source": [
        "**ESTRUTURA DE DECISÃO**"
      ],
      "metadata": {
        "id": "Ua3xocc30ikh"
      }
    },
    {
      "cell_type": "markdown",
      "source": [
        "LINK: https://wiki.python.org.br/EstruturaDeDecisao"
      ],
      "metadata": {
        "id": "xLpd70oL0mzx"
      }
    },
    {
      "cell_type": "markdown",
      "source": [
        "exe 01 - Faça um Programa que peça dois números e imprima o maior deles."
      ],
      "metadata": {
        "id": "W0PgKrKm0reQ"
      }
    },
    {
      "cell_type": "code",
      "source": [
        "print(\"Informe o primeiro número: \")\n",
        "a1 = input()\n",
        "a_int = int(a1)\n",
        "print(\"Informe o segundo número: \")\n",
        "a2 = input()\n",
        "b_int = int(a2)\n",
        "\n",
        "if (a_int > b_int):\n",
        "  print(f'Maior valor {a_int}')\n",
        "else:\n",
        "    print(f'Maior valor {b_int}')\n",
        "\n"
      ],
      "metadata": {
        "id": "gTlq4Bll0vBZ"
      },
      "execution_count": null,
      "outputs": []
    },
    {
      "cell_type": "markdown",
      "source": [
        "exe 02 - Faça um Programa que peça um valor e mostre na tela se o valor é positivo ou negativo."
      ],
      "metadata": {
        "id": "NOwp0t073DXf"
      }
    },
    {
      "cell_type": "code",
      "source": [
        "print(\"Informe o primeiro número: \")\n",
        "a1 = input()\n",
        "a_int = float(a1)\n",
        "\n",
        "\n",
        "if (a_int < 0):\n",
        "  print('valor negativo')\n",
        "else:\n",
        "  print('positivo')"
      ],
      "metadata": {
        "id": "xbYLNgCH3G4J"
      },
      "execution_count": null,
      "outputs": []
    },
    {
      "cell_type": "markdown",
      "source": [
        "exe 03 - Faça um Programa que verifique se uma letra digitada é \"F\" ou \"M\". Conforme a letra escrever: F - Feminino, M - Masculino, Sexo Inválido."
      ],
      "metadata": {
        "id": "vs1p6R0Y3WwX"
      }
    },
    {
      "cell_type": "code",
      "source": [
        "print('Informe o sexo: ')\n",
        "sexo = input()\n",
        "\n",
        "if((sexo == 'M') | (sexo == 'm')):\n",
        "    print('Masculino')\n",
        "elif((sexo == 'F') | (sexo == 'f')):\n",
        "      print('Feminino')\n",
        "else:\n",
        "  print('Sexo inválido')\n"
      ],
      "metadata": {
        "id": "483e-tg53ZIY"
      },
      "execution_count": null,
      "outputs": []
    },
    {
      "cell_type": "markdown",
      "source": [
        "exe 04 - Faça um Programa que verifique se uma letra digitada é vogal ou consoante.\n"
      ],
      "metadata": {
        "id": "2IIxB3CG4MlK"
      }
    },
    {
      "cell_type": "code",
      "source": [
        "print('Informe uma letra: ')\n",
        "letra = input()\n",
        "\n",
        "if((letra == 'a') | (letra == 'A')):\n",
        "    print('Vogal')\n",
        "elif((letra == 'e') | (letra == 'E')):\n",
        "      print('Vogal')\n",
        "elif((letra == 'i') | (letra == 'I')):\n",
        "      print('Vogal')\n",
        "elif((letra == 'o ') | (letra == 'O')):\n",
        "      print('Vogal')\n",
        "elif((letra == 'u') | (letra == 'U')):\n",
        "      print('Vogal')\n",
        "else:\n",
        "  print('Consoante')"
      ],
      "metadata": {
        "id": "-01OcQdU4i40"
      },
      "execution_count": null,
      "outputs": []
    },
    {
      "cell_type": "markdown",
      "source": [
        "exe 05 - Faça um programa para a leitura de duas notas parciais de um aluno. O programa deve calcular a média alcançada por aluno e apresentar:"
      ],
      "metadata": {
        "id": "pXNIurXi6Cca"
      }
    },
    {
      "cell_type": "markdown",
      "source": [
        "a - A mensagem \"Aprovado\", se a média alcançada for maior ou igual a sete;"
      ],
      "metadata": {
        "id": "IPLLZXzQ6H7f"
      }
    },
    {
      "cell_type": "markdown",
      "source": [
        "b - A mensagem \"Reprovado\", se a média for menor do que sete;"
      ],
      "metadata": {
        "id": "vboSgYcn6atK"
      }
    },
    {
      "cell_type": "markdown",
      "source": [
        "c - A mensagem \"Aprovado com Distinção\", se a média for igual a dez."
      ],
      "metadata": {
        "id": "pA8ERxGs6dFH"
      }
    },
    {
      "cell_type": "code",
      "source": [
        "print('Primeira nota: ')\n",
        "b1 = input()\n",
        "b1_int = float(b1)\n",
        "print('Segunda nota: ')\n",
        "b2 = input()\n",
        "b2_int = float(b2)\n",
        "\n",
        "media = (b1_int+b2_int)/2\n",
        "\n",
        "if (media == 10):\n",
        "  print('Aprovado com Distinção')\n",
        "elif (media >= 7):\n",
        "  print('Aprovado')\n",
        "else:\n",
        "  print('Reprovado')\n"
      ],
      "metadata": {
        "id": "c34c5nRP6fHb"
      },
      "execution_count": null,
      "outputs": []
    },
    {
      "cell_type": "markdown",
      "source": [
        "exe 06 - Faça um Programa que leia três números e mostre o maior deles."
      ],
      "metadata": {
        "id": "AU4ML4j5-HLh"
      }
    },
    {
      "cell_type": "code",
      "source": [
        "primeiro = int(input('Primeiro numero: '))\n",
        "segundo  = int(input('Segundo numero : '))\n",
        "terceiro = int(input('Terceiro numero: '))\n",
        "\n",
        "maior = primeiro\n",
        "\n",
        "if (segundo > maior):\n",
        "    maior = segundo\n",
        "if (terceiro > maior):\n",
        "    maior = terceiro\n",
        "\n",
        "print('Maior: ',maior)\n"
      ],
      "metadata": {
        "id": "VpFmiWpH-MzI"
      },
      "execution_count": null,
      "outputs": []
    },
    {
      "cell_type": "markdown",
      "source": [
        "exe 07 - Faça um Programa que leia três números e mostre o maior e o menor deles."
      ],
      "metadata": {
        "id": "afBafVS0KaSQ"
      }
    },
    {
      "cell_type": "code",
      "source": [
        "primeiro = int(input('Primeiro numero: '))\n",
        "segundo  = int(input('Segundo numero : '))\n",
        "terceiro = int(input('Terceiro numero: '))\n",
        "\n",
        "maior = primeiro\n",
        "\n",
        "if (segundo > maior):\n",
        "    maior = segundo\n",
        "if (terceiro > maior):\n",
        "    maior = terceiro\n",
        "\n",
        "print('Maior: ',maior)\n",
        "\n",
        "menor = primeiro\n",
        "\n",
        "if (segundo < menor):\n",
        "    menor = segundo\n",
        "if (terceiro < menor):\n",
        "    menor = terceiro\n",
        "\n",
        "print('Menor: ',menor)"
      ],
      "metadata": {
        "id": "jkKsZc-nKcef"
      },
      "execution_count": null,
      "outputs": []
    },
    {
      "cell_type": "markdown",
      "source": [
        "exe 08 - Faça um programa que pergunte o preço de três produtos e informe qual produto você deve comprar, sabendo que a decisão é sempre pelo mais barato."
      ],
      "metadata": {
        "id": "ep1jWLF0LJ4I"
      }
    },
    {
      "cell_type": "code",
      "source": [
        "valor1 = float(input('Valor do primeiro produto: '))\n",
        "valor2 = float(input('Valor do segundo produto: '))\n",
        "valor3 = float(input('Valor do terceiro produto: '))\n",
        "\n",
        "menor = valor1\n",
        "\n",
        "if (valor2 < menor):\n",
        "  menor = valor2\n",
        "if (valor3 < menor):\n",
        "  menor = valor3\n",
        "\n",
        "print('Melhor preço', menor)\n"
      ],
      "metadata": {
        "id": "RyCsP-tYLM10"
      },
      "execution_count": null,
      "outputs": []
    },
    {
      "cell_type": "markdown",
      "source": [
        "exe 09 - Faça um Programa que leia três números e mostre-os em ordem decrescente."
      ],
      "metadata": {
        "id": "Yabq_d-AMA6a"
      }
    },
    {
      "cell_type": "code",
      "source": [
        "a = float(input('Escreva um número: '))\n",
        "b = float(input('Escreva um número: '))\n",
        "c = float(input('Escreva um número: '))\n",
        "\n",
        "if a >= b and a >= c and b >= c:\n",
        "    print(f'A ordem decrescente é {a} , {b} e {c}')\n",
        "elif a >= b and a >=c and c >= b:\n",
        "    print(f'A ordem decrescente é {a} , {c} e {b}')\n",
        "elif b >= a and b >= c and a >= c:\n",
        "    print(f'A ordem decrescente é {b} , {a} e {c}')\n",
        "elif b >= a and b >= c and c >= a:\n",
        "    print(f'A ordem decrescente é {b} , {c} e {a}')\n",
        "elif c >= a and c >= b and a >=b:\n",
        "    print(f'A ordem decrescente é {c} , {a} e {b}')\n",
        "elif c >= a and c >= b and b >= a:\n",
        "    print(f'A ordem decrescente é {c} , {b} e {a}')"
      ],
      "metadata": {
        "id": "xvuAn3E9MDs4"
      },
      "execution_count": null,
      "outputs": []
    },
    {
      "cell_type": "markdown",
      "source": [
        "exe 10 - Faça um Programa que pergunte em que turno você estuda. Peça para digitar M-matutino ou V-Vespertino ou N- Noturno. Imprima a mensagem \"Bom Dia!\", \"Boa Tarde!\" ou \"Boa Noite!\" ou \"Valor Inválido!\", conforme o caso."
      ],
      "metadata": {
        "id": "xX63fM0WMuGf"
      }
    },
    {
      "cell_type": "code",
      "source": [
        "print('Informe seu turno: M-matutino, V-vespertino, N-noturno')\n",
        "sexo = input()\n",
        "\n",
        "if((sexo == 'M') | (sexo == 'm')):\n",
        "    print('Bom dia!')\n",
        "elif((sexo == 'V') | (sexo == 'v')):\n",
        "      print('Boa tarde!')\n",
        "elif((sexo == 'N') | (sexo == 'n')):\n",
        "      print('Boa noite!')\n",
        "else:\n",
        "  print('Informe o valor correto')"
      ],
      "metadata": {
        "id": "yulShgaJMyLZ"
      },
      "execution_count": null,
      "outputs": []
    },
    {
      "cell_type": "markdown",
      "source": [
        "exe 11 - As Organizações Tabajara resolveram dar um aumento de salário aos seus colaboradores e lhe contraram para desenvolver o programa que calculará os reajustes."
      ],
      "metadata": {
        "id": "4nYy0jVPNNby"
      }
    },
    {
      "cell_type": "markdown",
      "source": [
        "Faça um programa que recebe o salário de um colaborador e o reajuste segundo o seguinte critério, baseado no salário atual:"
      ],
      "metadata": {
        "id": "A8K6K2r2NRi4"
      }
    },
    {
      "cell_type": "markdown",
      "source": [
        "a - salários até 280,00 (incluindo) : aumento de 20%"
      ],
      "metadata": {
        "id": "fXpkckyPNTM3"
      }
    },
    {
      "cell_type": "markdown",
      "source": [
        "b - salários entre 280,00 e 700,00 : aumento de 15%"
      ],
      "metadata": {
        "id": "SQLUR58SNUpy"
      }
    },
    {
      "cell_type": "markdown",
      "source": [
        "c - salários entre 700,00 e 1500,00 : aumento de 10%"
      ],
      "metadata": {
        "id": "jNCeqi1VNYP_"
      }
    },
    {
      "cell_type": "markdown",
      "source": [
        "salários de R$ 1500,00 em diante : aumento de 5% Após o aumento ser realizado, informe na tela:"
      ],
      "metadata": {
        "id": "r4l6s5p-NdYI"
      }
    },
    {
      "cell_type": "markdown",
      "source": [
        "a - o salário antes do reajuste"
      ],
      "metadata": {
        "id": "OeLYq7NkNjLp"
      }
    },
    {
      "cell_type": "markdown",
      "source": [
        "b - o percentual de aumento aplicado;"
      ],
      "metadata": {
        "id": "yWgmtEWQNlhQ"
      }
    },
    {
      "cell_type": "markdown",
      "source": [
        "c - o valor do aumento;"
      ],
      "metadata": {
        "id": "CiVxtdv2NngR"
      }
    },
    {
      "cell_type": "markdown",
      "source": [
        "d - o novo salário, após o aumento."
      ],
      "metadata": {
        "id": "KWVUpuU6NpIg"
      }
    },
    {
      "cell_type": "code",
      "source": [
        "salario = float(input('Informe seu salário: '))\n",
        "\n",
        "if (salario <= 280):\n",
        "    total1 = (salario*0.2)\n",
        "    final1 = salario + total1\n",
        "    print(f'salário antes do rejuste: {salario}, aumento de 20%, valor: {total1}, após o reajuste: {final1}')\n",
        "elif (salario > 281) & (salario <= 700):\n",
        "    total2 = (salario*0.15)\n",
        "    final2 = salario + total2\n",
        "    print(f'salário antes do rejuste: {salario}, aumento de 15%,valor: {total2}, após o reajuste: {final2}')\n",
        "elif (salario > 700) & (salario <= 1500):\n",
        "    total3 = (salario*0.1)\n",
        "    final3 = salario + total3\n",
        "    print(f'salário antes do rejuste: {salario}, aumento de 10%, valor: {total3}, após o reajuste: {final3}')\n",
        "elif (salario > 1500):\n",
        "    total4 = (salario*0.05)\n",
        "    final4 = salario + total4\n",
        "    print(f'salário antes do rejuste: {salario}, aumento de 5%, valor: {total4}, após o reajuste: {final4}')\n",
        "else:\n",
        "  print('Valor incorreto')\n"
      ],
      "metadata": {
        "id": "lmZnGWIjNqtr"
      },
      "execution_count": null,
      "outputs": []
    },
    {
      "cell_type": "markdown",
      "source": [
        "exe 12 - Faça um programa para o cálculo de uma folha de pagamento, sabendo que os descontos são do Imposto de Renda, que depende do salário bruto (conforme tabela abaixo) e 3% para o Sindicato e que o FGTS corresponde a 11% do Salário Bruto, mas não é descontado (é a empresa que deposita). O Salário Líquido corresponde ao Salário Bruto menos os descontos. O programa deverá pedir ao usuário o valor da sua hora e a quantidade de horas trabalhadas no mês. REFAZER"
      ],
      "metadata": {
        "id": "vWj6AwixS_pE"
      }
    },
    {
      "cell_type": "markdown",
      "source": [
        "a - Salário Bruto até 900 (inclusive) - isento"
      ],
      "metadata": {
        "id": "APSuNfkCTFaw"
      }
    },
    {
      "cell_type": "markdown",
      "source": [
        "b - Salário Bruto até 1500 (inclusive) - desconto de 5%"
      ],
      "metadata": {
        "id": "zSwXRbfdTHmr"
      }
    },
    {
      "cell_type": "markdown",
      "source": [
        "c - Salário Bruto até 2500 (inclusive) - desconto de 10%"
      ],
      "metadata": {
        "id": "Jy4d_fMKTJeY"
      }
    },
    {
      "cell_type": "markdown",
      "source": [
        "d - Salário Bruto acima de 2500 - desconto de 20% Imprima na tela as informações, dispostas conforme o exemplo abaixo. No exemplo o valor da hora é 5 e a quantidade de hora é 220."
      ],
      "metadata": {
        "id": "dVFQh-ZOTLdB"
      }
    },
    {
      "cell_type": "code",
      "source": [
        "horas = int(input('Informe as horas trabalhados no mês: '))\n",
        "valorHora = float(input('Informe o valor da hora: '))\n",
        "salario = valorHora * horas\n",
        "\n",
        "inss = salario * 0.1\n",
        "ir = salario * 0.05\n",
        "\n",
        "if (salario <= 900):\n",
        "    desconto = print('Isento')\n",
        "\n",
        "elif (salario > 900) & (salario <= 1500):\n",
        "    desconto = salario-(salario*0.05)\n",
        "    final2 = salario -(inss+desconto)\n",
        "\n",
        "elif (salario > 1500) & (salario <= 2500):\n",
        "    desconto = salario*0.1\n",
        "    final3 = salario -(inss+desconto)\n",
        "\n",
        "final = salario - (inss+desconto)\n",
        "ir = desconto\n",
        "fgts = salario*0.05\n",
        "\n",
        "print(f'Salário bruto: {salario}')\n",
        "print(f'(-) INSS (10%): {inss}')\n",
        "print(f'(-) IR (5%): {desconto}')\n",
        "print(f'FGTS (11%): {fgts}')\n",
        "print(f'Total dos descontos: {final}')\n",
        "print(f'Salário liquido: {salario-final}')"
      ],
      "metadata": {
        "id": "KhMQjGiQTYds"
      },
      "execution_count": null,
      "outputs": []
    },
    {
      "cell_type": "markdown",
      "source": [
        "exe 13 - Faça um Programa que leia um número e exiba o dia correspondente da semana. (1-Domingo, 2- Segunda, etc.), se digitar outro valor deve aparecer valor inválido.\n"
      ],
      "metadata": {
        "id": "ypPZ_UTJcZuv"
      }
    },
    {
      "cell_type": "code",
      "source": [
        "dia = int(input('Informe o dia da semana: '))\n",
        "\n",
        "if(dia == 1):\n",
        "  print('Domingo')\n",
        "elif(dia == 2):\n",
        "  print('Segunda-feira')\n",
        "elif(dia == 3):\n",
        "  print('Segunda-feira')\n",
        "elif(dia == 4):\n",
        "  print('Terça-feira')\n",
        "elif(dia == 5):\n",
        "  print('Quarta-feira')\n",
        "elif(dia == 6):\n",
        "  print('Quinta-feira')\n",
        "elif(dia == 7):\n",
        "  print('Sexta-feira')\n",
        "elif(dia == 8):\n",
        "  print('Sábado')\n",
        "else:\n",
        "  print('Valor inválido')\n"
      ],
      "metadata": {
        "id": "YyqxQiUGcg3P"
      },
      "execution_count": null,
      "outputs": []
    },
    {
      "cell_type": "markdown",
      "source": [
        "exe 14 - Faça um programa que lê as duas notas parciais obtidas por um aluno numa disciplina ao longo de um semestre, e calcule a sua média."
      ],
      "metadata": {
        "id": "yO4WnRqcdeDj"
      }
    },
    {
      "cell_type": "code",
      "source": [
        "nota1 = float(input('Informe a primeira nota: '))\n",
        "nota2 = float(input('Informe a segunda nota: '))\n",
        "\n",
        "media = (nota1 + nota2)/2\n",
        "\n",
        "print('Média de Aproveitamento     Conceito')\n",
        "\n",
        "if(media >= 9.0):\n",
        "  print(f'{media}                      A')\n",
        "  print('Aprovado')\n",
        "elif(media >= 7.5) & (media < 9.0 ):\n",
        "  print(f'{media}                      B')\n",
        "  print('Aprovado')\n",
        "elif(media >= 6.0) & (media < 7.5 ):\n",
        "  print(f'{media}                      C')\n",
        "  print('Aprovado')\n",
        "elif(media >= 4.0) & (media < 6.0 ):\n",
        "  print(f'{media}                      D')\n",
        "  print('Reprovado')\n",
        "elif(media < 4.0 ):\n",
        "  print(f'{media}                      E')\n",
        "  print('Reprovado')\n",
        "else:\n",
        "  print('Valor invalido')"
      ],
      "metadata": {
        "id": "22Nki8RBdjq0"
      },
      "execution_count": null,
      "outputs": []
    },
    {
      "cell_type": "markdown",
      "source": [
        "exe 15 - Faça um Programa que peça os 3 lados de um triângulo. O programa deverá informar se os valores podem ser um triângulo. Indique, caso os lados formem um triângulo, se o mesmo é: equilátero, isósceles ou escaleno"
      ],
      "metadata": {
        "id": "YwKc1rtmfyHM"
      }
    },
    {
      "cell_type": "markdown",
      "source": [
        "Dicas:"
      ],
      "metadata": {
        "id": "8-ZQOkragl9J"
      }
    },
    {
      "cell_type": "markdown",
      "source": [
        "Três lados formam um triângulo quando a soma de quaisquer dois lados for maior que o terceiro;"
      ],
      "metadata": {
        "id": "Z7IdYjVWgnlI"
      }
    },
    {
      "cell_type": "markdown",
      "source": [
        "Triângulo Equilátero: três lados iguais;"
      ],
      "metadata": {
        "id": "tS8yAQNPgp9B"
      }
    },
    {
      "cell_type": "markdown",
      "source": [
        "Triângulo Isósceles: quaisquer dois lados iguais;"
      ],
      "metadata": {
        "id": "MS40IPD5grpg"
      }
    },
    {
      "cell_type": "markdown",
      "source": [
        "Triângulo Escaleno: três lados diferentes;"
      ],
      "metadata": {
        "id": "q8VN-G33gtiR"
      }
    },
    {
      "cell_type": "code",
      "source": [
        "lado1 = float(input('Informe o valor do lado 1: '))\n",
        "lado2 = float(input('Informe o valor do lado 2: '))\n",
        "lado3 = float(input('Informe o valor do lado 3: '))\n",
        "\n",
        "fixo = lado1\n",
        "\n",
        "if (fixo == lado2) and (fixo == lado3):\n",
        "  print('Triângulo equilátero')\n",
        "elif (fixo == lado2) or (fixo == lado3):\n",
        "  print('Triângulo Isósceles')\n",
        "elif (fixo != lado2) and (fixo != lado3):\n",
        "  print('Triângulo escaleno')\n",
        "else:\n",
        "  print('Sem valor informado')"
      ],
      "metadata": {
        "id": "C_twv50vg3vq"
      },
      "execution_count": null,
      "outputs": []
    },
    {
      "cell_type": "markdown",
      "source": [
        "exe 16 - Faça um programa que calcule as raízes de uma equação do segundo grau, na forma ax2 + bx + c. O programa deverá pedir os valores de a, b e c e fazer as consistências, informando ao usuário nas seguintes situações: REFAZER"
      ],
      "metadata": {
        "id": "KISffkbdXRZ5"
      }
    },
    {
      "cell_type": "markdown",
      "source": [
        "a - Se o usuário informar o valor de A igual a zero, a equação não é do segundo grau e o programa não deve fazer pedir os demais valores, sendo encerrado;"
      ],
      "metadata": {
        "id": "YdggmjrlXkf_"
      }
    },
    {
      "cell_type": "markdown",
      "source": [
        "b - Se o delta calculado for negativo, a equação não possui raizes reais. Informe ao usuário e encerre o programa;"
      ],
      "metadata": {
        "id": "QBsGGrpnXmyh"
      }
    },
    {
      "cell_type": "markdown",
      "source": [
        "c - Se o delta calculado for igual a zero a equação possui apenas uma raiz real; informe-a ao usuário;"
      ],
      "metadata": {
        "id": "p3fn1w_MXpGK"
      }
    },
    {
      "cell_type": "markdown",
      "source": [
        "d - Se o delta for positivo, a equação possui duas raiz reais; informe-as ao usuário;"
      ],
      "metadata": {
        "id": "0AjUBiWSXrl4"
      }
    },
    {
      "cell_type": "code",
      "source": [
        "import math\n",
        "pri = float(input('Informe o primeiro valor: '))\n",
        "\n",
        "if (pri == 0):\n",
        "  print('Valor igual a 0, não é uma equação de segundo grau')\n",
        "else:\n",
        "  seg = float(input( 'Informe o segundo valor: '))\n",
        "  ter = float(input('Inofore o terceiro valor: '))\n",
        "  delta = seg*seg - (4*pri*ter)\n",
        "\n",
        "if (delta <= 0):\n",
        "  print('Delta menor que 0. Raízes imaginárias')\n",
        "elif delta==0:\n",
        "  raiz = -seg / (2*pri)\n",
        "  print('Delta=0 , raiz = ',raiz)\n",
        "else:\n",
        "  raiz1 = (-seg + math.sqrt(delta) ) / (2*pri)\n",
        "  raiz2 = (-seg - math.sqrt(delta) ) / (2*pri)\n",
        "  print('Raizes: ',raiz1,' e ',raiz2)\n"
      ],
      "metadata": {
        "id": "GZPMKzMJXuj5"
      },
      "execution_count": null,
      "outputs": []
    },
    {
      "cell_type": "markdown",
      "source": [
        "exe 17 - Faça um Programa que peça um número correspondente a um determinado ano e em seguida informe se este ano é ou não bissexto. REFAZER"
      ],
      "metadata": {
        "id": "PuvAXsfrdG24"
      }
    },
    {
      "cell_type": "code",
      "source": [
        "ano = int(input('Ano: '))\n",
        "if (ano%4==0 and ano%100!=0) or (ano%400==0):\n",
        "    print('Bissexto')\n",
        "else:\n",
        "    print('Não é bissexto')"
      ],
      "metadata": {
        "id": "FlSZGpRadMA4"
      },
      "execution_count": null,
      "outputs": []
    },
    {
      "cell_type": "markdown",
      "source": [
        "exe 18 - Faça um Programa que peça uma data no formato dd/mm/aaaa e determine se a mesma é uma data válida. REFAZER"
      ],
      "metadata": {
        "id": "Jsf6XknbdZ_6"
      }
    },
    {
      "cell_type": "code",
      "source": [
        "dia = int( input('Dia: ') )\n",
        "mes = int( input('Mês: ') )\n",
        "ano = int( input('Ano: ') )\n",
        "\n",
        "valida = False\n",
        "\n",
        "# Meses com 31 dias\n",
        "if( mes==1 or mes==3 or mes==5 or mes==7 or \\\n",
        "  mes==8 or mes==10 or mes==12):\n",
        "  if(dia<=31):\n",
        "   valida = True\n",
        "  # Meses com 30 dias\n",
        "elif( mes==4 or mes==6 or mes==9 or mes==11):\n",
        "  if(dia<=30):\n",
        "    valida = True\n",
        "elif mes==2:\n",
        " # Testa se é bissexto\n",
        "  if (ano%4==0 and ano%100!=0) or (ano%400==0):\n",
        "   if(dia<=29):\n",
        "      valida = True\n",
        "elif(dia<=28):\n",
        "  valida = True\n",
        "\n",
        "if(valida):\n",
        "  print('Data válida')\n",
        "else:\n",
        "  print('Inválida')"
      ],
      "metadata": {
        "id": "cG8qb6I8dph-"
      },
      "execution_count": null,
      "outputs": []
    },
    {
      "cell_type": "markdown",
      "source": [
        "exe 19 - Faça um Programa que leia um número inteiro menor que 1000 e imprima a quantidade de centenas, dezenas e unidades do mesmo. REFAZER"
      ],
      "metadata": {
        "id": "Of-n40SResgA"
      }
    },
    {
      "cell_type": "markdown",
      "source": [
        "Observando os termos no plural a colocação do \"e\", da vírgula entre outros. Exemplo:\n",
        "326 = 3 centenas, 2 dezenas e 6 unidades\n",
        "12 = 1 dezena e 2 unidades Testar com: 326, 300, 100, 320, 310,305, 301, 101, 311, 111, 25, 20, 10, 21, 11, 1, 7 e 16\n"
      ],
      "metadata": {
        "id": "7hBXohkGe5NK"
      }
    },
    {
      "cell_type": "code",
      "source": [
        "numero = int(input('Digite um numero inteiro positivo: '))\n",
        "\n",
        "# Extraindo a unidade\n",
        "unidade = numero % 10\n",
        "\n",
        "# Eliminando a unidade de nosso número\n",
        "numero = (numero - unidade)/10\n",
        "\n",
        "# Extraindo a dezena\n",
        "dezena = numero % 10\n",
        "\n",
        "# Eliminando a dezena do número original, fica a centena\n",
        "numero = (numero - dezena)/10\n",
        "centena = numero\n",
        "\n",
        "# Fazendo ser inteiros\n",
        "dezena = int(dezena)\n",
        "centena = int(centena)\n",
        "print(centena,'centena(s),',dezena,'dezena(s) e',unidade,'unidade(s)')"
      ],
      "metadata": {
        "colab": {
          "base_uri": "https://localhost:8080/"
        },
        "id": "v2-lzwUhe86V",
        "outputId": "a93aafda-c403-452d-9e38-a695110b2b86"
      },
      "execution_count": null,
      "outputs": [
        {
          "output_type": "stream",
          "name": "stdout",
          "text": [
            "Digite um numero inteiro positivo: 10\n",
            "0 centena(s), 1 dezena(s) e 0 unidade(s)\n"
          ]
        }
      ]
    },
    {
      "cell_type": "markdown",
      "source": [
        "exe 20 - Faça um Programa para leitura de três notas parciais de um aluno. O programa deve calcular a média alcançada por aluno e presentar:"
      ],
      "metadata": {
        "id": "90rhxu4MfkA3"
      }
    },
    {
      "cell_type": "markdown",
      "source": [
        "a - A mensagem \"Aprovado\", se a média for maior ou igual a 7, com a respectiva média alcançada;"
      ],
      "metadata": {
        "id": "T04oJq73frmg"
      }
    },
    {
      "cell_type": "markdown",
      "source": [
        "b - A mensagem \"Reprovado\", se a média for menor do que 7, com a respectiva média alcançada;"
      ],
      "metadata": {
        "id": "zN0zKvQkfuPQ"
      }
    },
    {
      "cell_type": "markdown",
      "source": [
        "c - A mensagem \"Aprovado com Distinção\", se a média for igual a 10."
      ],
      "metadata": {
        "id": "eLKjIulWfxOG"
      }
    },
    {
      "cell_type": "code",
      "source": [
        "pri = float(input('Informe a primeira nota: '))\n",
        "seg = float(input('Informe a segunda nota: '))\n",
        "ter = float(input('Informe a terceira nota: '))\n",
        "\n",
        "media = (pri+seg+ter)/3\n",
        "\n",
        "if (media == 10):\n",
        "  print('Aprovado com Distinção')\n",
        "elif (media >= 7):\n",
        "  print('Aprovado')\n",
        "else:\n",
        "  print('Reprovado')\n",
        "\n"
      ],
      "metadata": {
        "id": "JTHU6eRrf98Z"
      },
      "execution_count": null,
      "outputs": []
    },
    {
      "cell_type": "markdown",
      "source": [
        "exe 20 - Faça um Programa para um caixa eletrônico. O programa deverá perguntar ao usuário a valor do saque e depois informar quantas notas de cada valor serão fornecidas. As notas disponíveis serão as de 1, 5, 10, 50 e 100 reais. O valor mínimo é de 10 reais e o máximo de 600 reais. O programa não deve se preocupar com a quantidade de notas existentes na máquina. REFAZER"
      ],
      "metadata": {
        "id": "heJI7jj_hUAl"
      }
    },
    {
      "cell_type": "markdown",
      "source": [
        "Exemplo 1: Para sacar a quantia de 256 reais, o programa fornece duas notas de 100, uma nota de 50, uma nota de 5 e uma nota de 1;"
      ],
      "metadata": {
        "id": "ZVIMi5TRhaC-"
      }
    },
    {
      "cell_type": "markdown",
      "source": [
        "Exemplo 2: Para sacar a quantia de 399 reais, o programa fornece três notas de 100, uma nota de 50, quatro notas de 10, uma nota de 5 e quatro notas de 1."
      ],
      "metadata": {
        "id": "RRWPEQkYhce6"
      }
    },
    {
      "cell_type": "code",
      "source": [
        "numero = int(input('Valor para sacar [10-600]: '))\n",
        "\n",
        "cem = int(numero / 100)\n",
        "numero = numero - (cem*100)\n",
        "\n",
        "cinquenta = int(numero/50)\n",
        "numero = numero - (cinquenta*50)\n",
        "\n",
        "dez = int(numero/10)\n",
        "numero = numero - (dez*10)\n",
        "\n",
        "cinco = int(numero/5)\n",
        "numero = numero - (cinco*5)\n",
        "\n",
        "um = numero\n",
        "\n",
        "print('Notas R$100,00 = ',cem)\n",
        "print('Notas R$ 50,00 = ',cinquenta)\n",
        "print('Notas R$ 10,00 = ',dez)\n",
        "print('Notas R$  5,00 = ',cinco)\n",
        "print('Notas R$  1,00 = ',um)"
      ],
      "metadata": {
        "colab": {
          "base_uri": "https://localhost:8080/"
        },
        "id": "tg5b9WychebR",
        "outputId": "58c1b18c-da4a-4ba9-d510-bc80b2f448ea"
      },
      "execution_count": null,
      "outputs": [
        {
          "output_type": "stream",
          "name": "stdout",
          "text": [
            "Valor para sacar [10-600]: 500\n",
            "Notas R$100,00 =  5\n",
            "Notas R$ 50,00 =  0\n",
            "Notas R$ 10,00 =  0\n",
            "Notas R$  5,00 =  0\n",
            "Notas R$  1,00 =  0\n"
          ]
        }
      ]
    },
    {
      "cell_type": "markdown",
      "source": [
        "exe 21 - Faça um Programa que peça um número inteiro e determine se ele é par ou impar. Dica: utilize o operador módulo (resto da divisão)."
      ],
      "metadata": {
        "id": "x6lE36O7iNh-"
      }
    },
    {
      "cell_type": "code",
      "source": [
        "valor = int(input('Informe o valor: '))\n",
        "\n",
        "resto = valor % 2\n",
        "\n",
        "if (resto == 0):\n",
        "  print('Par')\n",
        "else:\n",
        "  print('Impar')\n"
      ],
      "metadata": {
        "colab": {
          "base_uri": "https://localhost:8080/"
        },
        "id": "zj5FSZoWiZtM",
        "outputId": "ec13c5b5-4551-4a60-e345-4f519d349e95"
      },
      "execution_count": null,
      "outputs": [
        {
          "output_type": "stream",
          "name": "stdout",
          "text": [
            "Informe o valor: 3\n",
            "Impar\n"
          ]
        }
      ]
    },
    {
      "cell_type": "markdown",
      "source": [
        "exe 22 - Faça um Programa que peça um número e informe se o número é inteiro ou decimal. Dica: utilize uma função de arredondamento. REFAZER\n"
      ],
      "metadata": {
        "id": "rmqIXab9i4sD"
      }
    },
    {
      "cell_type": "code",
      "source": [
        "numero = float(input('Numero original: '))\n",
        "print(numero)\n",
        "print(\"Arredondado    :\", round(numero))"
      ],
      "metadata": {
        "colab": {
          "base_uri": "https://localhost:8080/"
        },
        "id": "rZYgx5RLjB81",
        "outputId": "952aae8b-f0df-4e7a-8eae-3ec07bde3d16"
      },
      "execution_count": null,
      "outputs": [
        {
          "output_type": "stream",
          "name": "stdout",
          "text": [
            "Numero original: 10\n",
            "10.0\n",
            "Arredondado    : 10\n"
          ]
        }
      ]
    },
    {
      "cell_type": "markdown",
      "source": [
        "exe 23 - Faça um Programa que leia 2 números e em seguida pergunte ao usuário qual operação ele deseja realizar. O resultado da operação deve ser acompanhado de uma frase que diga se o número é:\n"
      ],
      "metadata": {
        "id": "rY4Ao9i0j2Ap"
      }
    },
    {
      "cell_type": "markdown",
      "source": [
        "par ou ímpar; positivo ou negativo; inteiro ou decimal."
      ],
      "metadata": {
        "id": "3nqPc3Aakviy"
      }
    },
    {
      "cell_type": "markdown",
      "source": [
        "NÃO SEI FAZEEEER"
      ],
      "metadata": {
        "id": "tfVDRzVYmA--"
      }
    }
  ]
}