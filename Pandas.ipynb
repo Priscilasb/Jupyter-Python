{
  "nbformat": 4,
  "nbformat_minor": 0,
  "metadata": {
    "colab": {
      "provenance": []
    },
    "kernelspec": {
      "name": "python3",
      "display_name": "Python 3"
    },
    "language_info": {
      "name": "python"
    }
  },
  "cells": [
    {
      "cell_type": "markdown",
      "source": [
        "# **Pandas**\n",
        "Melhor biblioteca para analise de dados"
      ],
      "metadata": {
        "id": "798sRiYYFIaE"
      }
    },
    {
      "cell_type": "code",
      "execution_count": 2,
      "metadata": {
        "id": "TveETtpXFF5T"
      },
      "outputs": [],
      "source": [
        "import pandas as pd"
      ]
    },
    {
      "cell_type": "code",
      "source": [
        "#criando um dataframe\n",
        "venda = {'data':['15/02/2021', '16/02/2021'],\n",
        "         'valor': [500,300],\n",
        "         'produto': ['feijao', 'arroz'],\n",
        "         'qtde': [50,70]}\n",
        "vendas_df = pd.DataFrame(venda) #cria um dataframe"
      ],
      "metadata": {
        "id": "E7FrxSUPFn8X"
      },
      "execution_count": 5,
      "outputs": []
    },
    {
      "cell_type": "code",
      "source": [
        "#vizualização dos dados\n",
        "print(vendas_df) #exibe como um ploco de texto\n",
        "display(vendas_df) #exibe mais bonitinho"
      ],
      "metadata": {
        "id": "ayOC5YplHCP_"
      },
      "execution_count": null,
      "outputs": []
    },
    {
      "cell_type": "code",
      "source": [
        "#Importando dados de uma base da dados externo\n",
        "vgsales = pd.read_csv('vgsales.csv')\n",
        "display(vgsales)"
      ],
      "metadata": {
        "id": "uanE-KOAHv3U"
      },
      "execution_count": null,
      "outputs": []
    },
    {
      "cell_type": "code",
      "source": [
        "#visualização\n",
        "#head - mostra o dataframe, apenas os 5 primeiro valores, caso queira mais, informar dentro do () do head.\n",
        "display(vgsales.head())"
      ],
      "metadata": {
        "id": "VgM6Y_BiLC8E"
      },
      "execution_count": null,
      "outputs": []
    },
    {
      "cell_type": "code",
      "source": [
        "#shape - quantas linhas e colunas tem\n",
        "print(vgsales.shape)"
      ],
      "metadata": {
        "colab": {
          "base_uri": "https://localhost:8080/"
        },
        "id": "jj7lvbhaLVxd",
        "outputId": "5813b240-2ad9-4ee1-c941-627734a0e497"
      },
      "execution_count": 16,
      "outputs": [
        {
          "output_type": "stream",
          "name": "stdout",
          "text": [
            "(16598, 11)\n"
          ]
        }
      ]
    },
    {
      "cell_type": "code",
      "source": [
        "#describe - vai pegar as colunas numericas e fazer um resumo geral.\n",
        "display(vgsales.describe())"
      ],
      "metadata": {
        "id": "gjUaGr1RLeWL"
      },
      "execution_count": null,
      "outputs": []
    },
    {
      "cell_type": "code",
      "source": [
        "#pd.Series\n",
        "#Pegar 1 coluna da tabela - eu preciso criar uma tabela para receber uma coluna\n",
        "produtos = vgsales[['Name', 'Platform']]\n",
        "display(produtos)"
      ],
      "metadata": {
        "id": "j3x1hKvOQn8q"
      },
      "execution_count": null,
      "outputs": []
    },
    {
      "cell_type": "code",
      "source": [
        "#.loc\n",
        "#pegar uma linha ou mais, com ou sem condições\n",
        "#linha especifico\n",
        "display(vgsales.loc[1])\n"
      ],
      "metadata": {
        "id": "NUZZXl2rRlhS"
      },
      "execution_count": null,
      "outputs": []
    },
    {
      "cell_type": "code",
      "source": [
        "#mais de uma linha\n",
        "display(vgsales.loc[1:5])"
      ],
      "metadata": {
        "id": "oXVXZTmeSEMC"
      },
      "execution_count": null,
      "outputs": []
    },
    {
      "cell_type": "code",
      "source": [
        "#pegar linhas que correspondem a uma condição\n",
        "display(vgsales.loc[vgsales['Publisher'] == 'Kemco'])"
      ],
      "metadata": {
        "id": "kWYwWrBvSI_0"
      },
      "execution_count": null,
      "outputs": []
    },
    {
      "cell_type": "code",
      "source": [
        "#pegar varias linhas e colunas usando loc\n",
        "                                                                 #colunas que eu que eu quero que apareça baseado no primeiro filtro que escolhi\n",
        "vendas_pub = display(vgsales.loc[vgsales['Publisher'] == 'Kemco', ['Platform', 'Name']])\n",
        "display(vendas_pub)"
      ],
      "metadata": {
        "id": "iLhGKHgPSvtq"
      },
      "execution_count": null,
      "outputs": []
    },
    {
      "cell_type": "code",
      "source": [
        "#pegar um valor especifico\n",
        "#linhas, coluna\n",
        "print(vgsales.loc[1, 'Publisher'])"
      ],
      "metadata": {
        "colab": {
          "base_uri": "https://localhost:8080/"
        },
        "id": "-uNLEIczTob3",
        "outputId": "3b60ee59-9539-43b2-baf3-1d0e7758ef97"
      },
      "execution_count": 34,
      "outputs": [
        {
          "output_type": "stream",
          "name": "stdout",
          "text": [
            "Nintendo\n"
          ]
        }
      ]
    },
    {
      "cell_type": "code",
      "source": [
        "#A partir de uma coluna que existe\n",
        "vgsales['Lucro'] = vgsales['Global_Sales']*0.1\n",
        "display(vgsales)"
      ],
      "metadata": {
        "id": "1Qb3pfV2UDeP"
      },
      "execution_count": null,
      "outputs": []
    },
    {
      "cell_type": "code",
      "source": [
        "#criar uma coluna com valor padrão\n",
        "# :, significa todas as linhas\n",
        "vgsales.loc[:, 'Imposto'] = 0\n",
        "display(vgsales)"
      ],
      "metadata": {
        "id": "QjuZaEqeVMix"
      },
      "execution_count": null,
      "outputs": []
    },
    {
      "cell_type": "code",
      "source": [
        "#adicionar linha\n",
        "vgsales_2 = pd.read_csv('vgsales_2.csv')\n",
        "\n",
        "vgsales = vgsales.append(vgsales_2)\n",
        "display(vgsales)"
      ],
      "metadata": {
        "id": "tbeXuKKRWNgj"
      },
      "execution_count": null,
      "outputs": []
    },
    {
      "cell_type": "code",
      "source": [
        "#excluir\n",
        "vgsales = vgsales.drop('Lucro', axis=1)\n",
        "display(vgsales)"
      ],
      "metadata": {
        "id": "H4RP5eQFjrsp"
      },
      "execution_count": null,
      "outputs": []
    },
    {
      "cell_type": "code",
      "source": [
        "#valores vazios\n",
        "#deletar linhas e colunas completamente vazias\n",
        "vgsales = vgsales.dropna(how='all', axis=1) #all - so vai excluir linhas e colunas sao vazios"
      ],
      "metadata": {
        "id": "SNdVz37DkVpS"
      },
      "execution_count": 42,
      "outputs": []
    },
    {
      "cell_type": "code",
      "source": [
        "#excluir linhas que tenham pelo menos um valor vazio\n",
        "vgsales = vgsales.dropna()\n",
        "display(vgsales)"
      ],
      "metadata": {
        "id": "09AtzufGk7D3"
      },
      "execution_count": null,
      "outputs": []
    },
    {
      "cell_type": "code",
      "source": [
        "#preencher com valores vazios\n",
        "vg_sales = vgsales.ffill() #vai preencher os campos com o valor que esta acima\n",
        "\n",
        "#preencher com a media da coluna\n",
        "vgsales['Other_Sales'] = vgsales['Other_Sales'].fillna(vgsales['Other_Sales'].mean())\n",
        "display(vgsales)"
      ],
      "metadata": {
        "id": "2R-TlEPHlZdO"
      },
      "execution_count": null,
      "outputs": []
    },
    {
      "cell_type": "code",
      "source": [
        "carros = pd.read_csv('tudo.csv')\n",
        "display(carros)\n"
      ],
      "metadata": {
        "id": "C2cMeRpanYQV"
      },
      "execution_count": null,
      "outputs": []
    },
    {
      "cell_type": "code",
      "source": [
        "#Value_counts\n",
        "#conta valores\n",
        "transacoes_nome = carros['name'].value_counts()\n",
        "display(transacoes_nome)"
      ],
      "metadata": {
        "id": "SwRiOkwBolsl"
      },
      "execution_count": null,
      "outputs": []
    },
    {
      "cell_type": "code",
      "source": [
        "#Groupby\n",
        "\n",
        "valor = carros[['product','quantity']].groupby('product').mean()\n",
        "display(valor)"
      ],
      "metadata": {
        "id": "4hqb5LvbpVL5"
      },
      "execution_count": null,
      "outputs": []
    },
    {
      "cell_type": "code",
      "source": [
        "#Mesclar dois dataframes\n",
        "gerentes_df = pd.read_csv('gerente.csv') #data com duas colunas\n",
        "carros = carros.merge(gerentes_df)\n",
        "display(carros)\n"
      ],
      "metadata": {
        "id": "JOYuU07EsVCh"
      },
      "execution_count": null,
      "outputs": []
    }
  ]
}