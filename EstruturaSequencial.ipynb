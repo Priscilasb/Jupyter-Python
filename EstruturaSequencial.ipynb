{
  "nbformat": 4,
  "nbformat_minor": 0,
  "metadata": {
    "colab": {
      "provenance": []
    },
    "kernelspec": {
      "name": "python3",
      "display_name": "Python 3"
    },
    "language_info": {
      "name": "python"
    }
  },
  "cells": [
    {
      "cell_type": "markdown",
      "source": [
        "**ESTRUTURA SEQUENCIAL**"
      ],
      "metadata": {
        "id": "NXy_OmePtXIU"
      }
    },
    {
      "cell_type": "markdown",
      "source": [
        "*LINK: https://wiki.python.org.br/EstruturaSequencial*"
      ],
      "metadata": {
        "id": "di9jAItuV3-C"
      }
    },
    {
      "cell_type": "markdown",
      "source": [
        "exe 01 - Faça um Programa que mostre a mensagem \"Alo mundo\" na tela."
      ],
      "metadata": {
        "id": "xWMsDXn6tc8z"
      }
    },
    {
      "cell_type": "code",
      "execution_count": null,
      "metadata": {
        "id": "f4Qst0UwroRN"
      },
      "outputs": [],
      "source": [
        "print(\"Olá mundo\")"
      ]
    },
    {
      "cell_type": "markdown",
      "source": [
        "exe 02 - Faça um Programa que peça um número e então mostre a mensagem O número informado foi [número]."
      ],
      "metadata": {
        "id": "1bsHdnIxtlCq"
      }
    },
    {
      "cell_type": "code",
      "source": [
        "print(\"Informe um número: \")\n",
        "num = input()\n",
        "print (\"O número informado foi: \", num)"
      ],
      "metadata": {
        "id": "959O9RgitmGy"
      },
      "execution_count": null,
      "outputs": []
    },
    {
      "cell_type": "markdown",
      "source": [
        "exe 03 - Faça um Programa que peça dois números e imprima a soma."
      ],
      "metadata": {
        "id": "DLi2swQ4uHWD"
      }
    },
    {
      "cell_type": "code",
      "source": [
        "a = input(\"Digite o primeiro numero: \") # o valor colocado é uma string\n",
        "b = input(\"Digite o segundo numero: \")\n",
        "a_int = int(a) # converte string/texto para inteiro\n",
        "b_int = int(b) # converte string/texto para inteiro\n",
        "soma = a_int + b_int\n",
        "print( f'Resultado é: {soma}' )"
      ],
      "metadata": {
        "id": "yUYsStq6uIMz"
      },
      "execution_count": null,
      "outputs": []
    },
    {
      "cell_type": "markdown",
      "source": [
        "exe 04 - Faça um Programa que peça as 4 notas bimestrais e mostre a média."
      ],
      "metadata": {
        "id": "wDVTpKrzw-1B"
      }
    },
    {
      "cell_type": "code",
      "source": [
        "a = input(\"Digite B1: \") # o valor colocado é uma string\n",
        "b = input(\"Digite B2: \")\n",
        "c = input(\"Digite B3: \")\n",
        "d = input(\"Digite B4  : \")\n",
        "a_int = int(a) # converte string/texto para inteiro\n",
        "b_int = int(b)\n",
        "c_int = int(c)\n",
        "d_int = int(d)\n",
        "\n",
        "notas = (a_int +b_int +c_int +d_int)/4\n",
        "print(f'Média anual: {notas}')\n"
      ],
      "metadata": {
        "id": "yCSFLTMoxBDp"
      },
      "execution_count": null,
      "outputs": []
    },
    {
      "cell_type": "markdown",
      "source": [
        "exe 05 - Faça um Programa que converta metros para centímetros."
      ],
      "metadata": {
        "id": "vc861efazWUB"
      }
    },
    {
      "cell_type": "code",
      "source": [
        "print('Converter metros em centimetros')\n",
        "valor = input(\"Digite o valor(m): \") # o valor colocado é uma string\n",
        "valor_int = float(valor)\n",
        "\n",
        "result = valor_int*100\n",
        "print(f'Centimetros: {valor_int}')"
      ],
      "metadata": {
        "id": "xd0BI-OFzZAZ"
      },
      "execution_count": null,
      "outputs": []
    },
    {
      "cell_type": "markdown",
      "source": [
        "exe06 - Faça um Programa que peça o raio de um círculo, calcule e mostre sua área."
      ],
      "metadata": {
        "id": "XzMHnSjJ1YkP"
      }
    },
    {
      "cell_type": "code",
      "source": [
        "valor = input(\"Digite o valor(raio): \") # o valor colocado é uma string\n",
        "valor_int = float(valor)\n",
        "\n",
        "result = (valor_int) ** 2 *3.14\n",
        "print(f'área do circulo: {result}')"
      ],
      "metadata": {
        "id": "_kWotzSY1Zsv"
      },
      "execution_count": null,
      "outputs": []
    },
    {
      "cell_type": "markdown",
      "source": [
        "exe 07 - Faça um Programa que calcule a área de um quadrado, em seguida mostre o dobro desta área para o usuário."
      ],
      "metadata": {
        "id": "QAkaSy6b3JRW"
      }
    },
    {
      "cell_type": "code",
      "source": [
        "a1= input(\"Digite a base: \") # o valor colocado é uma string\n",
        "a2 = input(\"Digite a altura: \") # o valor colocado é uma string\n",
        "a_int = float(a1)\n",
        "b_int = float(a2)\n",
        "\n",
        "result = (a_int*b_int)*2\n",
        "print(f'área do circulo: {result}')"
      ],
      "metadata": {
        "id": "Jpst31kP3Klm"
      },
      "execution_count": null,
      "outputs": []
    },
    {
      "cell_type": "markdown",
      "source": [
        "exe 08 - Faça um Programa que pergunte quanto você ganha por hora e o número de horas trabalhadas no mês. Calcule e mostre o total do seu salário no referido mês."
      ],
      "metadata": {
        "id": "RoewPl4X8A63"
      }
    },
    {
      "cell_type": "code",
      "source": [
        "a1= input(\"Valor por hora: \") # o valor colocado é uma string\n",
        "a1 = float(a1)\n",
        "a2 = input(\"horas trabalhadas no mês: \") # o valor colocado é uma string\n",
        "a2 = float(a2) #converte\n",
        "\n",
        "result = round((a1*a2),2)\n",
        "print(f'Salário: {result}')"
      ],
      "metadata": {
        "id": "U6f6S1PE8CjS"
      },
      "execution_count": null,
      "outputs": []
    },
    {
      "cell_type": "markdown",
      "source": [
        "exe 09 - Faça um Programa que peça a temperatura em graus Fahrenheit, transforme e mostre a temperatura em graus Celsius.\n",
        "C = 5 * ((F-32) / 9)."
      ],
      "metadata": {
        "id": "_uQgUNbF-scD"
      }
    },
    {
      "cell_type": "code",
      "source": [
        "a1= input(\"temperatura em graus Fahrenheit: \") # o valor colocado é uma string\n",
        "a1 = float(a1)\n",
        "\n",
        "convert = round((5 * ((a1-32)/9)),2)\n",
        "print(f'Temperatura em graus Celsius: {convert}ºC')\n"
      ],
      "metadata": {
        "id": "jaUmYGHH-tcc"
      },
      "execution_count": null,
      "outputs": []
    },
    {
      "cell_type": "markdown",
      "source": [
        "exe 10 - Faça um Programa que peça a temperatura em graus Celsius, transforme e mostre em graus Fahrenheit."
      ],
      "metadata": {
        "id": "UpRMS2ZvAV4T"
      }
    },
    {
      "cell_type": "code",
      "source": [
        "a1= input(\"temperatura em graus Celsius: \") # o valor colocado é uma string\n",
        "a1 = float(a1)\n",
        "\n",
        "convert = round((((a1-32)/1800)*1000),2)\n",
        "print(f'Temperatura em graus Fahrenheit: {convert}ºF')"
      ],
      "metadata": {
        "id": "lQFQwPvJAZa5"
      },
      "execution_count": null,
      "outputs": []
    },
    {
      "cell_type": "markdown",
      "source": [
        "exe 11 - Faça um Programa que peça 2 números inteiros e um número real. Calcule e mostre:"
      ],
      "metadata": {
        "id": "GDifrFrCBPlD"
      }
    },
    {
      "cell_type": "markdown",
      "source": [
        "a - o produto do dobro do primeiro com metade do segundo ."
      ],
      "metadata": {
        "id": "BAAa0zvnBTic"
      }
    },
    {
      "cell_type": "markdown",
      "source": [
        "b - a soma do triplo do primeiro com o terceiro."
      ],
      "metadata": {
        "id": "LdlySnA2BVsx"
      }
    },
    {
      "cell_type": "markdown",
      "source": [
        "c - o terceiro elevado ao cubo."
      ],
      "metadata": {
        "id": "JA5lnKkLBYEJ"
      }
    },
    {
      "cell_type": "code",
      "source": [
        "n1 = input('Digite o primeiro numero:  ')\n",
        "n1 = int(n1)\n",
        "n2 = input('Digite o segundo numero:  ')\n",
        "n2 = int(n2)\n",
        "nReal = input('Digite o numero Real:  ')\n",
        "nReal = float(nReal)\n",
        "r1 = n1 * 2 * (n2 / 2)\n",
        "print ('o produto do dobro do primeiro com metade do segundo = ', r1)\n",
        "r2 = n1 *  3 + nReal\n",
        "print('a soma do triplo do primeiro com o terceiro = ', r2)\n",
        "r3 = nReal ** 3\n",
        "print ('o terceiro elevado ao cubo', r3)"
      ],
      "metadata": {
        "id": "WsFncBDNBcou"
      },
      "execution_count": null,
      "outputs": []
    },
    {
      "cell_type": "markdown",
      "source": [
        "exe 12 - Tendo como dados de entrada a altura de uma pessoa, construa um algoritmo que calcule seu peso ideal, usando a seguinte fórmula: (72.7*altura) - 58"
      ],
      "metadata": {
        "id": "spkGrDBaFvrA"
      }
    },
    {
      "cell_type": "code",
      "source": [
        "print('Informe sua altura: ')\n",
        "a1 = input()\n",
        "a1 = float(a1)\n",
        "\n",
        "peso = round(((72.7*a1) - 58),2)\n",
        "print('Peso ideal: ', peso)"
      ],
      "metadata": {
        "id": "KKpJzRr2FyKw"
      },
      "execution_count": null,
      "outputs": []
    },
    {
      "cell_type": "markdown",
      "source": [
        "exe - 13 - Tendo como dado de entrada a altura (h) de uma pessoa, construa um algoritmo que calcule seu peso ideal, utilizando as seguintes fórmulas:"
      ],
      "metadata": {
        "id": "f0xNHysUGSqh"
      }
    },
    {
      "cell_type": "markdown",
      "source": [
        "a - Para homens: (72.7*h) - 58"
      ],
      "metadata": {
        "id": "w-Q7-zC6GYIP"
      }
    },
    {
      "cell_type": "markdown",
      "source": [
        "b - Para mulheres: (62.1*h) - 44.7"
      ],
      "metadata": {
        "id": "6nMkyhUQGaD4"
      }
    },
    {
      "cell_type": "code",
      "source": [
        "print('Informe sua altura:')\n",
        "a1 = input()\n",
        "a1 = float(a1)\n",
        "print('Informe o sexo: M - masculino ou F - feminino')\n",
        "sexo = input()\n",
        "\n",
        "if((sexo == 'M') | (sexo == 'm')):\n",
        "    masc = (72.7*a1) - 58\n",
        "    print(masc)\n",
        "elif((sexo == 'F') | (sexo == 'f')):\n",
        "      fem = (62.1*a1) - 44.7\n",
        "      print(fem)\n",
        "else:\n",
        "  print('Informe o sexo corretamente')\n"
      ],
      "metadata": {
        "id": "g8udjoblGeHA"
      },
      "execution_count": null,
      "outputs": []
    },
    {
      "cell_type": "markdown",
      "source": [
        "exe 14 - João Papo-de-Pescador, homem de bem, comprou um microcomputador para controlar o rendimento diário de seu trabalho. Toda vez que ele traz um peso de peixes maior que o estabelecido pelo regulamento de pesca do estado de São Paulo (50 quilos) deve pagar uma multa de R$ 4,00 por quilo excedente. João precisa que você faça um programa que leia a variável peso (peso de peixes) e calcule o excesso. Gravar na variável excesso a quantidade de quilos além do limite e na variável multa o valor da multa que João deverá pagar. Imprima os dados do programa com as mensagens adequadas."
      ],
      "metadata": {
        "id": "WPl7jR9PLxjv"
      }
    },
    {
      "cell_type": "code",
      "source": [
        "print('Informe o peso: ')\n",
        "a1 = input()\n",
        "a1 = float(a1)\n",
        "\n",
        "if (a1 > 50.00):\n",
        "  excesso = a1 - 50\n",
        "  multa = excesso * 4\n",
        "  print(f'O peso excedeu o regulamento de pesca: excesso: {excesso}, multa: R$ {multa}')\n",
        "else:\n",
        "  print('Tudo certo')\n"
      ],
      "metadata": {
        "id": "u6LUrjLPL0QB"
      },
      "execution_count": null,
      "outputs": []
    },
    {
      "cell_type": "markdown",
      "source": [
        "exe 15 - Faça um Programa que pergunte quanto você ganha por hora e o número de horas trabalhadas no mês. Calcule e mostre o total do seu salário no referido mês, sabendo-se que são descontados 11% para o Imposto de Renda, 8% para o INSS e 5% para o sindicato, faça um programa que nos dê:"
      ],
      "metadata": {
        "id": "KP4YiaGvPbvs"
      }
    },
    {
      "cell_type": "markdown",
      "source": [
        "a - salário bruto."
      ],
      "metadata": {
        "id": "vkl8QpLHPfpj"
      }
    },
    {
      "cell_type": "markdown",
      "source": [
        "b - quanto pagou ao INSS"
      ],
      "metadata": {
        "id": "coGkFMndPh5j"
      }
    },
    {
      "cell_type": "markdown",
      "source": [
        "c - quanto pagou ao sindicato."
      ],
      "metadata": {
        "id": "KKh7GdrQPjt0"
      }
    },
    {
      "cell_type": "markdown",
      "source": [
        "d - o salário líquido."
      ],
      "metadata": {
        "id": "26XkW5BuPlVT"
      }
    },
    {
      "cell_type": "markdown",
      "source": [
        "e - calcule os descontos e o salário líquido, conforme a tabela abaixo:"
      ],
      "metadata": {
        "id": "oJmZPnOVPnTn"
      }
    },
    {
      "cell_type": "markdown",
      "source": [
        "+ Salário Bruto:\n",
        "- IR (11%):\n",
        "- INSS (8%):\n",
        "- Sindicato ( 5%):\n",
        "= Salário Liquido:"
      ],
      "metadata": {
        "id": "Yl8IGXKePqnN"
      }
    },
    {
      "cell_type": "code",
      "source": [
        "a1= input(\"Valor por hora: \") # o valor colocado é uma string\n",
        "a1 = float(a1)\n",
        "a2 = input(\"horas trabalhadas no mês: \") # o valor colocado é uma string\n",
        "a2 = float(a2) #converte\n",
        "\n",
        "bruto = round((a1*a2),2)\n",
        "ir = round((bruto*0.11),2)\n",
        "inss = round((bruto*0.08),2)\n",
        "sind = round((bruto*0.05),2)\n",
        "\n",
        "liquido = round((bruto-(ir+inss+sind)),2)\n",
        "print('bruto', bruto)\n",
        "print('liquido', liquido)"
      ],
      "metadata": {
        "colab": {
          "base_uri": "https://localhost:8080/"
        },
        "id": "aGEVlviHPumn",
        "outputId": "4ef6baca-c3c2-4e0d-a511-1936f5644344"
      },
      "execution_count": null,
      "outputs": [
        {
          "output_type": "stream",
          "name": "stdout",
          "text": [
            "Valor por hora: 6.69\n",
            "horas trabalhadas no mês: 220\n",
            "bruto 1471.8\n",
            "liquido 1118.57\n"
          ]
        }
      ]
    },
    {
      "cell_type": "markdown",
      "source": [
        "exe 16 - Faça um programa para uma loja de tintas. O programa deverá pedir o tamanho em metros quadrados da área a ser pintada. Considere que a cobertura da tinta é de 1 litro para cada 3 metros quadrados e que a tinta é vendida em latas de 18 litros, que custam R$ 80,00. Informe ao usuário a quantidades de latas de tinta a serem compradas e o preço total."
      ],
      "metadata": {
        "id": "QXRzsPlDSd1C"
      }
    },
    {
      "cell_type": "code",
      "source": [
        "metros = input(\"Digite a quantidade de metros quadrados a serem pintados: \")\n",
        "metros = float(metros)\n",
        "litros = metros/3\n",
        "\n",
        "precoL = 80.0\n",
        "capacidadeL = 18\n",
        "\n",
        "latas = round((litros / capacidadeL),2)\n",
        "total = round((latas * precoL),2)\n",
        "\n",
        "print('Você usara ',latas,'latas de tinta')\n",
        "print('O preco total é de: R$',total)\n"
      ],
      "metadata": {
        "colab": {
          "base_uri": "https://localhost:8080/"
        },
        "id": "H9-QNgtqSjYo",
        "outputId": "a02f656b-6214-4ad3-ca67-1cdf1d5b55e2"
      },
      "execution_count": null,
      "outputs": [
        {
          "output_type": "stream",
          "name": "stdout",
          "text": [
            "Digite a quantidade de metros quadrados a serem pintados: 62\n",
            "Você usara  1.15 latas de tinta\n",
            "O preco total é de: R$ 92.0\n"
          ]
        }
      ]
    },
    {
      "cell_type": "markdown",
      "source": [
        "exe 17 - Faça um programa que peça o tamanho de um arquivo para download (em MB) e a velocidade de um link de Internet (em Mbps), calcule e informe o tempo aproximado de download do arquivo usando este link (em minutos)."
      ],
      "metadata": {
        "id": "-mmhPtH5TuFG"
      }
    },
    {
      "cell_type": "code",
      "source": [
        "arquivo = input('Informe o tamanho do arquivo para donwload (em MB): ')\n",
        "arquivo = float(arquivo)\n",
        "velocidade = input('Informe a velocidade de sua internet (em MBPS): ')\n",
        "velocidade = float(velocidade)\n",
        "tempo = arquivo/velocidade\n",
        "minuto = round((tempo/60),2)\n",
        "print (f'O tempo aproximado para download do arquivo usando este link e de: {minuto} minutos')"
      ],
      "metadata": {
        "colab": {
          "base_uri": "https://localhost:8080/"
        },
        "id": "iw8160d8UM32",
        "outputId": "b9d53fce-2672-4277-b4c3-5b24579e611a"
      },
      "execution_count": null,
      "outputs": [
        {
          "output_type": "stream",
          "name": "stdout",
          "text": [
            "Informe o tamanho do arquivo para donwload (em MB): 800\n",
            "Informe a velocidade de sua internet (em MBPS): 450\n",
            "O tempo aproximado para download do arquivo usando este link e de: 0.03 minutos\n"
          ]
        }
      ]
    }
  ]
}