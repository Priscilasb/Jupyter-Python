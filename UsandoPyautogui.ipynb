{
 "cells": [
  {
   "cell_type": "code",
   "execution_count": 22,
   "id": "59d8a553",
   "metadata": {},
   "outputs": [
    {
     "data": {
      "text/plain": [
       "'OK'"
      ]
     },
     "execution_count": 22,
     "metadata": {},
     "output_type": "execute_result"
    }
   ],
   "source": [
    "import pyautogui\n",
    "import time\n",
    "\n",
    "pyautogui.alert(\"O código vai começar, não use nada do seu computador enquanto seu código está rodando\")\n",
    "pyautogui.PAUSE = 0.5 #sempre que executar uma linha de codigo ele vai esperar 0.5 para executar a proxima\n",
    "#Abrir o google drive no meu computador\n",
    "#press - ele aperta uma vez alguma tecla do seu teclado\n",
    "pyautogui.press('win') #nesse site (https://pyautogui.readthedocs.io/en/latest/quickstart.html) possui as teclas disponiveis para uso\n",
    "pyautogui.write('chrome')\n",
    "pyautogui.press('enter')\n",
    "time.sleep(1)\n",
    "\n",
    "#time - para o segundinho em locais especificos\n",
    "pyautogui.write('https://drive.google.com/')\n",
    "pyautogui.press('enter')\n",
    "#A partir do momento que você roda esse codigo, seu computador é conduzido pelo pyautogui, então é importante exibir uma msg e não mexer em nada durante o processo\n",
    "time.sleep(1)\n",
    "\n",
    "#Entrar na minha area de trabalho - Atalho win + d\n",
    "pyautogui.hotkey('win','d')\n",
    "#hotkey - combinação de duas teclas\n",
    "time.sleep(1)\n",
    "\n",
    "#Cliquei no arquivo que eu quero fazer backup e arrastei ele\n",
    "pyautogui.moveTo(34,126)\n",
    "pyautogui.mouseDown() #precionar o botão esquerdo do mouse\n",
    "pyautogui.moveTo(782,521)\n",
    "time.sleep(1)\n",
    "                    \n",
    "#Enquanto eu estou arrastando eu vou mudar para o google drive\n",
    "pyautogui.hotkey('alt','tab') #abrir a pagina do drive\n",
    "time.sleep(1)\n",
    "#Larquei o arquivo no google drive\n",
    "pyautogui.mouseUp() #largar o mouse\n",
    "\n",
    "#Esperar 2 segundos\n",
    "time.sleep(2)\n",
    "\n",
    "pyautogui.alert(\"Finalizado\") #alerta de finalização"
   ]
  },
  {
   "cell_type": "code",
   "execution_count": 20,
   "id": "21d2bf2b",
   "metadata": {},
   "outputs": [
    {
     "data": {
      "text/plain": [
       "Point(x=782, y=521)"
      ]
     },
     "execution_count": 20,
     "metadata": {},
     "output_type": "execute_result"
    }
   ],
   "source": [
    "pyautogui.position() #usado para pegar a posição do mouse"
   ]
  },
  {
   "cell_type": "code",
   "execution_count": null,
   "id": "bf4e9ce3",
   "metadata": {},
   "outputs": [],
   "source": []
  }
 ],
 "metadata": {
  "kernelspec": {
   "display_name": "Python 3 (ipykernel)",
   "language": "python",
   "name": "python3"
  },
  "language_info": {
   "codemirror_mode": {
    "name": "ipython",
    "version": 3
   },
   "file_extension": ".py",
   "mimetype": "text/x-python",
   "name": "python",
   "nbconvert_exporter": "python",
   "pygments_lexer": "ipython3",
   "version": "3.11.3"
  }
 },
 "nbformat": 4,
 "nbformat_minor": 5
}
