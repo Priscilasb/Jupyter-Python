{
  "nbformat": 4,
  "nbformat_minor": 0,
  "metadata": {
    "colab": {
      "provenance": []
    },
    "kernelspec": {
      "name": "python3",
      "display_name": "Python 3"
    },
    "language_info": {
      "name": "python"
    }
  },
  "cells": [
    {
      "cell_type": "code",
      "execution_count": 2,
      "metadata": {
        "colab": {
          "base_uri": "https://localhost:8080/"
        },
        "id": "rIkY6tVbM8np",
        "outputId": "6f4994a9-0be7-4ca7-d646-ebdf97bf0a54"
      },
      "outputs": [
        {
          "output_type": "stream",
          "name": "stdout",
          "text": [
            "45\n"
          ]
        }
      ],
      "source": [
        "import numpy as np #importação\n",
        "from numpy import sum\n",
        "from numpy import linalg as la\n",
        "\n",
        "s = sum(np.arange(10))\n",
        "print(s)"
      ]
    },
    {
      "cell_type": "code",
      "source": [
        "class diferente:    #funções equivalentes\n",
        "def __eq__(self, b):\n",
        "  return False\n",
        "\n",
        "def __ne__(self, b):\n",
        "  return True\n",
        "\n",
        "d = diferente()\n",
        "d == d # False\n",
        "d != d # True\n"
      ],
      "metadata": {
        "id": "DaeaVUl2N4YA"
      },
      "execution_count": null,
      "outputs": []
    },
    {
      "cell_type": "code",
      "source": [
        "a = 1 #erro de tipagem\n",
        "b = 2\n",
        "\n",
        "\n",
        "b = 'a'\n",
        "a + b\n",
        "b + a"
      ],
      "metadata": {
        "id": "VfVplGq6ONH8"
      },
      "execution_count": null,
      "outputs": []
    },
    {
      "cell_type": "code",
      "source": [
        "a = 1 #Escopo\n",
        "def b():\n",
        "  a = 2\n",
        "print(a) # escreverá 1"
      ],
      "metadata": {
        "colab": {
          "base_uri": "https://localhost:8080/"
        },
        "id": "d8DQIW1gS2Fc",
        "outputId": "56df0bc9-aba3-4eb5-c1f6-35406f970ea1"
      },
      "execution_count": 4,
      "outputs": [
        {
          "output_type": "stream",
          "name": "stdout",
          "text": [
            "1\n"
          ]
        }
      ]
    },
    {
      "cell_type": "code",
      "source": [
        "a = 1 # objeto 1 criado, referencias: 1\n",
        "b = 1 # referencias: 2\n",
        "a = None # referencias: 1\n",
        "b = None # referencias: 0, marcado para remoção"
      ],
      "metadata": {
        "id": "xiBAiA0jS9VS"
      },
      "execution_count": null,
      "outputs": []
    },
    {
      "cell_type": "code",
      "source": [
        "a = 1\n",
        "def b(c):\n",
        "d = c + 1\n",
        "return d\n",
        "e = b(1) # esta variável tem o mesmo valor que a variável d,\n",
        "# no entanto a variável d não existe mais.\n",
        "e = None # o valor anterior não é mais referenciado e será removido.\n"
      ],
      "metadata": {
        "id": "w_tGvxacVHyV"
      },
      "execution_count": null,
      "outputs": []
    }
  ]
}